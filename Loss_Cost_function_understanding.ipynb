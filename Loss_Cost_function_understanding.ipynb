{
  "nbformat": 4,
  "nbformat_minor": 0,
  "metadata": {
    "colab": {
      "provenance": [],
      "authorship_tag": "ABX9TyMG4b94WwdSxF04mgJIGRUK",
      "include_colab_link": true
    },
    "kernelspec": {
      "name": "python3",
      "display_name": "Python 3"
    },
    "language_info": {
      "name": "python"
    }
  },
  "cells": [
    {
      "cell_type": "markdown",
      "metadata": {
        "id": "view-in-github",
        "colab_type": "text"
      },
      "source": [
        "<a href=\"https://colab.research.google.com/github/Chaithanya3K/Deep_learning/blob/main/Loss_Cost_function_understanding.ipynb\" target=\"_parent\"><img src=\"https://colab.research.google.com/assets/colab-badge.svg\" alt=\"Open In Colab\"/></a>"
      ]
    },
    {
      "cell_type": "code",
      "execution_count": 1,
      "metadata": {
        "id": "DLHZzmhqqbPE"
      },
      "outputs": [],
      "source": [
        "import numpy as np\n",
        "y_prediction=np.array([1,1,0,0,1])\n",
        "y_true=np.array([0.30,0.7,1,0,0.5])"
      ]
    },
    {
      "cell_type": "code",
      "source": [
        "def mae(y_true,y_prediction):\n",
        "  total_error=0\n",
        "  for yt,yp in zip(y_true,y_prediction):\n",
        "    total_error+=abs(yt-yp)\n",
        "  print(\"Total Error(Loss)\",total_error)\n",
        "  mae=total_error/len(y_true)\n",
        "  print(\"MAE-Cost_function\",mae)\n",
        "  return mae"
      ],
      "metadata": {
        "id": "gjDG4RD5swZC"
      },
      "execution_count": 12,
      "outputs": []
    },
    {
      "cell_type": "code",
      "source": [
        "mae(y_true,y_prediction)"
      ],
      "metadata": {
        "colab": {
          "base_uri": "https://localhost:8080/"
        },
        "id": "JbrggbHDrg8d",
        "outputId": "3365919a-3482-4a61-a2f6-4d68f571d1e8"
      },
      "execution_count": 13,
      "outputs": [
        {
          "output_type": "stream",
          "name": "stdout",
          "text": [
            "Total Error(Loss) 2.5\n",
            "MAE-Cost_function 0.5\n"
          ]
        },
        {
          "output_type": "execute_result",
          "data": {
            "text/plain": [
              "np.float64(0.5)"
            ]
          },
          "metadata": {},
          "execution_count": 13
        }
      ]
    },
    {
      "cell_type": "code",
      "source": [
        "#Mae using numpy\n",
        "np.mean(np.abs(y_true-y_prediction))"
      ],
      "metadata": {
        "colab": {
          "base_uri": "https://localhost:8080/"
        },
        "id": "dVrhFTuZrg_f",
        "outputId": "01d250d6-7bff-44f9-d51c-da8672b30be6"
      },
      "execution_count": 14,
      "outputs": [
        {
          "output_type": "execute_result",
          "data": {
            "text/plain": [
              "np.float64(0.5)"
            ]
          },
          "metadata": {},
          "execution_count": 14
        }
      ]
    },
    {
      "cell_type": "code",
      "source": [
        "#mean Square error\n",
        "np.mean(np.square(y_true-y_prediction))"
      ],
      "metadata": {
        "colab": {
          "base_uri": "https://localhost:8080/"
        },
        "id": "ouskAdjIrhCj",
        "outputId": "050d95b1-3a76-4e4a-f8d6-11cce67088db"
      },
      "execution_count": 15,
      "outputs": [
        {
          "output_type": "execute_result",
          "data": {
            "text/plain": [
              "np.float64(0.366)"
            ]
          },
          "metadata": {},
          "execution_count": 15
        }
      ]
    },
    {
      "cell_type": "markdown",
      "source": [
        "##Binary_Croos_Entropy"
      ],
      "metadata": {
        "id": "ZAaYkoMZ13-A"
      }
    },
    {
      "cell_type": "code",
      "source": [
        "epsilon=1e-15"
      ],
      "metadata": {
        "id": "4BmxY2IbrhEm"
      },
      "execution_count": 16,
      "outputs": []
    },
    {
      "cell_type": "code",
      "source": [
        "y_predicted_new=[float(max(i,epsilon)) for i in y_prediction]\n",
        "print(y_predicted_new)"
      ],
      "metadata": {
        "colab": {
          "base_uri": "https://localhost:8080/"
        },
        "id": "bcYdj_wsv5X2",
        "outputId": "102a7fa2-5c0a-44dc-c7f9-bbdd4b145712"
      },
      "execution_count": 25,
      "outputs": [
        {
          "output_type": "stream",
          "name": "stdout",
          "text": [
            "[1.0, 1.0, 1e-15, 1e-15, 1.0]\n"
          ]
        }
      ]
    },
    {
      "cell_type": "code",
      "source": [
        "y_predicted_new=[float(min(i,1-epsilon)) for i in y_predicted_new]\n",
        "print(y_predicted_new)"
      ],
      "metadata": {
        "colab": {
          "base_uri": "https://localhost:8080/"
        },
        "id": "xvGlnZmlw4LA",
        "outputId": "885271e8-adc6-47f5-a71a-0dac5e97f8a9"
      },
      "execution_count": 45,
      "outputs": [
        {
          "output_type": "stream",
          "name": "stdout",
          "text": [
            "[0.999999999999999, 0.999999999999999, 1e-15, 1e-15, 0.999999999999999]\n"
          ]
        }
      ]
    },
    {
      "cell_type": "code",
      "source": [
        "y_predicted_new=np.array(y_predicted_new)\n"
      ],
      "metadata": {
        "id": "UqJ31DGdw4Om"
      },
      "execution_count": 48,
      "outputs": []
    },
    {
      "cell_type": "code",
      "source": [
        "#but if we do the log of original value it will be printing the infinite value\n",
        "\n",
        "np.log(y_prediction)"
      ],
      "metadata": {
        "colab": {
          "base_uri": "https://localhost:8080/"
        },
        "id": "PvOHrYSaw4T5",
        "outputId": "b34c0ef8-3e4c-4425-925d-4e1ca6f40148"
      },
      "execution_count": 41,
      "outputs": [
        {
          "output_type": "stream",
          "name": "stderr",
          "text": [
            "/tmp/ipython-input-1362666142.py:3: RuntimeWarning: divide by zero encountered in log\n",
            "  np.log(y_prediction)\n"
          ]
        },
        {
          "output_type": "execute_result",
          "data": {
            "text/plain": [
              "array([  0.,   0., -inf, -inf,   0.])"
            ]
          },
          "metadata": {},
          "execution_count": 41
        }
      ]
    },
    {
      "cell_type": "code",
      "source": [
        "#Cross entropy\n",
        "\n",
        "-np.mean(y_true*np.log(y_predicted_new)+(1-y_true)*np.log(1-y_predicted_new))"
      ],
      "metadata": {
        "colab": {
          "base_uri": "https://localhost:8080/"
        },
        "id": "YOxCVyOzw4Wn",
        "outputId": "19453313-d83e-48c0-94f3-940b810c2757"
      },
      "execution_count": 49,
      "outputs": [
        {
          "output_type": "execute_result",
          "data": {
            "text/plain": [
              "np.float64(17.2696280766844)"
            ]
          },
          "metadata": {},
          "execution_count": 49
        }
      ]
    },
    {
      "cell_type": "code",
      "source": [
        "#The function including all the above steps\n",
        "def logi_loss(y_true,y_prediction):\n",
        "  epsilon=1e-15\n",
        "  y_predicted_new=[float(max(i,epsilon)) for i in y_prediction]\n",
        "  y_predicted_new=[float(min(i,1-epsilon)) for i in y_predicted_new]\n",
        "  y_predicted_new=np.array(y_predicted_new)\n",
        "  return -np.mean(y_true*np.log(y_predicted_new)+(1-y_true)*np.log(1-y_predicted_new))"
      ],
      "metadata": {
        "id": "rMnXMXH1zKSe"
      },
      "execution_count": 58,
      "outputs": []
    },
    {
      "cell_type": "code",
      "source": [
        "logi_loss(y_true,y_prediction)"
      ],
      "metadata": {
        "colab": {
          "base_uri": "https://localhost:8080/"
        },
        "id": "Jb4z9TQhzKVT",
        "outputId": "d23a8ac1-68ef-42a9-de95-494bfac599c2"
      },
      "execution_count": 59,
      "outputs": [
        {
          "output_type": "execute_result",
          "data": {
            "text/plain": [
              "np.float64(17.2696280766844)"
            ]
          },
          "metadata": {},
          "execution_count": 59
        }
      ]
    },
    {
      "cell_type": "code",
      "source": [],
      "metadata": {
        "id": "Cr1Pb0UUzKYI"
      },
      "execution_count": null,
      "outputs": []
    }
  ]
}